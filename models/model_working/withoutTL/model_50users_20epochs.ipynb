{
 "cells": [
  {
   "cell_type": "code",
   "execution_count": 1,
   "id": "851a9fe7-fd48-4885-b4d0-c77e8f683d4f",
   "metadata": {},
   "outputs": [],
   "source": [
    "import gc\n",
    "import glob\n",
    "import os\n",
    "import sys\n",
    "import cv2\n",
    "import numpy as np\n",
    "import tensorflow as tf\n",
    "from matplotlib import pyplot as plt\n",
    "from random import randrange\n",
    "from tqdm import tqdm, tnrange\n",
    "from tqdm.notebook import tqdm_notebook\n",
    "\n",
    "import warnings\n",
    "\n",
    "from sklearn.model_selection import RandomizedSearchCV\n",
    "from sklearn.model_selection import train_test_split\n",
    "\n",
    "from keras.optimizer_v2.gradient_descent import SGD\n",
    "from keras.wrappers.scikit_learn import KerasClassifier\n",
    "from keras.callbacks import ReduceLROnPlateau\n",
    "from keras.layers import Dense, MaxPooling2D, Flatten, Conv2D, Lambda, Dropout, LeakyReLU, BatchNormalization, Activation, AveragePooling2D, GlobalAveragePooling2D\n",
    "from keras.models import Sequential\n",
    "from keras.preprocessing.image import ImageDataGenerator\n",
    "\n",
    "from mlxtend.evaluate import accuracy\n",
    "\n",
    "from tensorflow.keras.optimizers import Adam,RMSprop,SGD, Nadam\n",
    "#from tensorflow.keras.utils import to_categorical\n",
    "from keras.utils.np_utils import to_categorical # convert to one-hot-encoding\n",
    "from tensorflow.keras.applications import VGG16"
   ]
  },
  {
   "cell_type": "code",
   "execution_count": 2,
   "id": "7949618f-1f6e-40d6-8344-8c79718fa091",
   "metadata": {},
   "outputs": [],
   "source": [
    "os.environ['TF_CPP_MIN_LOG_LEVEL'] = '2'  # ignore tensorflow warnings\n",
    "warnings.filterwarnings(\"ignore\")"
   ]
  },
  {
   "cell_type": "code",
   "execution_count": 3,
   "id": "ba3ac1db-7d61-4780-8aa6-a10fb33d9034",
   "metadata": {},
   "outputs": [],
   "source": [
    "path_data = \"data/data_palm_vein/NIR\""
   ]
  },
  {
   "cell_type": "code",
   "execution_count": 4,
   "id": "bae3cfe5-c7f6-4856-bd37-70b3a437b08f",
   "metadata": {},
   "outputs": [],
   "source": [
    "def load_img(path, xdim=128, ydim=128, nb_of_users = 500):\n",
    "    label_names = []\n",
    "    X = []\n",
    "    y = []\n",
    "    nb_of_users = nb_of_users - 1\n",
    "    count = 0\n",
    "    identity = -1\n",
    "    directories = os.listdir(path)\n",
    "    directories.sort()\n",
    "    for dirname in tqdm_notebook(directories, desc=\"Loading images...\"):\n",
    "        if dirname == \".DS_Store\": continue\n",
    "        label_names.append(dirname)\n",
    "        data_path = os.path.join(path + \"/\" + dirname, '*g')\n",
    "        files = glob.glob(data_path)\n",
    "        if identity >= nb_of_users: break\n",
    "        identity += 1\n",
    "        files.sort()\n",
    "        for f1 in files:\n",
    "            img = cv2.imread(f1, cv2.IMREAD_GRAYSCALE)\n",
    "            #img = cv2.imread(f1)\n",
    "            #img = cv2.cvtColor(img,cv2.COLOR_GRAY2RGB)\n",
    "            img = cv2.resize(img,(int(xdim*1), int(ydim*1)))\n",
    "            #X.append([np.array(img), np.array(img), np.array(img)])\n",
    "            #X.append(np.array(img))\n",
    "            #X.append(np.array(img))\n",
    "            X.append(np.array(img))\n",
    "            #stacked_img = np.stack((img,)*3, axis=-1)\n",
    "            #X.append(stacked_img)\n",
    "            y.append(identity)\n",
    "            count += 1\n",
    "    X = np.array(X)\n",
    "    y = np.array(y)\n",
    "    print(\"\\n ================= Summary of extraction ================= \\n\")\n",
    "    print(count, ' images lues')\n",
    "    print(\"\\nX.shape = \", X.shape)\n",
    "    print(\"y.shape = \", y.shape)\n",
    "    gc.collect()\n",
    "    return X, y, label_names"
   ]
  },
  {
   "cell_type": "code",
   "execution_count": 5,
   "id": "ad596e67-c4c3-4820-ae3a-4efb91978f07",
   "metadata": {},
   "outputs": [
    {
     "data": {
      "application/vnd.jupyter.widget-view+json": {
       "model_id": "f8392913f7c84f7c9a25b32edfef7b85",
       "version_major": 2,
       "version_minor": 0
      },
      "text/plain": [
       "Loading images...:   0%|          | 0/501 [00:00<?, ?it/s]"
      ]
     },
     "metadata": {},
     "output_type": "display_data"
    },
    {
     "name": "stdout",
     "output_type": "stream",
     "text": [
      "\n",
      " ================= Summary of extraction ================= \n",
      "\n",
      "600  images lues\n",
      "\n",
      "X.shape =  (600, 128, 128)\n",
      "y.shape =  (600,)\n"
     ]
    }
   ],
   "source": [
    "X, y, label_names = load_img(path_data, nb_of_users=50, xdim=128, ydim=128)"
   ]
  },
  {
   "cell_type": "code",
   "execution_count": 6,
   "id": "cf451e58-023f-4812-95b7-6121d2429b14",
   "metadata": {},
   "outputs": [
    {
     "name": "stdout",
     "output_type": "stream",
     "text": [
      "\n",
      "PREPROCESSING DATA\n",
      "-----------------------------------------\n",
      "\n",
      "X shape : (600, 128, 128, 1)\n",
      "-----------------------------------------\n",
      "y shape : (600, 50)\n",
      "\n",
      "\n",
      "\n",
      "-----------------------------------------\n",
      "Il y a 50 utilisateur(s) dans le dataset prélevé.\n"
     ]
    }
   ],
   "source": [
    "X = X / 255.\n",
    "X = X.reshape(X.shape[0], X.shape[1], X.shape[2], 1)\n",
    "y = to_categorical(y)\n",
    "\n",
    "print(\"\\nPREPROCESSING DATA\")\n",
    "print(\"-----------------------------------------\")\n",
    "print(\"\\nX shape : {}\".format(X.shape))\n",
    "print(\"-----------------------------------------\")\n",
    "print(\"y shape : {}\\n\".format(y.shape))\n",
    "print(\"\\n\\n-----------------------------------------\")\n",
    "print(\"Il y a {} utilisateur(s) dans le dataset prélevé.\".format(y.shape[1]))"
   ]
  },
  {
   "cell_type": "code",
   "execution_count": 7,
   "id": "e1bb2fec-65e2-433b-9116-252b08564aad",
   "metadata": {},
   "outputs": [
    {
     "name": "stdout",
     "output_type": "stream",
     "text": [
      "\n",
      "Splitting data ...\n",
      "\n",
      "\n",
      "=============================== Splitting data =============================== \n",
      "\n",
      "\n",
      "X_train shape : (480, 128, 128, 1)    |   y_train shape : (480, 50)\n",
      "------------------------------------------------------------------------------\n",
      "(X_temp shape : (120, 128, 128, 1)    |   y_temp shape  : (120, 50))\n",
      "\n"
     ]
    }
   ],
   "source": [
    "X_train, X_temp, y_train, y_temp = train_test_split(X, y, test_size=0.2, random_state=42)\n",
    "print(\"\\nSplitting data ...\\n\")\n",
    "print(\"\\n=============================== Splitting data =============================== \\n\")\n",
    "print(\"\\nX_train shape : {}    |   y_train shape : {}\".format(X_train.shape, y_train.shape))\n",
    "print(\"------------------------------------------------------------------------------\")\n",
    "print(\"(X_temp shape : {}    |   y_temp shape  : {})\\n\".format(X_temp.shape, y_temp.shape))"
   ]
  },
  {
   "cell_type": "code",
   "execution_count": 8,
   "id": "fa67f84e-033e-4088-bd01-e615a5d741ba",
   "metadata": {},
   "outputs": [],
   "source": [
    "def zfnet_model(input_shape=(128, 128, 3), nombre_classes=500):\n",
    "    model = Sequential()\n",
    "    model.add(Conv2D(filters=256, kernel_size=(2, 2), padding=\"same\", activation=\"LeakyReLU\",input_shape=input_shape))\n",
    "    model.add(MaxPooling2D())\n",
    "    model.add(Flatten())\n",
    "    model.add(Dense(units=nombre_classes, activation=\"softmax\"))\n",
    "\n",
    "    print(model.summary())\n",
    "    print(\"\\n ================= model ================= \\n\")\n",
    "\n",
    "\n",
    "    model.compile(loss='categorical_crossentropy', optimizer='nadam', metrics=['accuracy'])\n",
    "    learning_rate_reduction = ReduceLROnPlateau(monitor='val_accuracy', \n",
    "                                            patience=2, \n",
    "                                            verbose=1, \n",
    "                                            factor=0.7, \n",
    "                                            min_lr=0.00000000001)\n",
    "#    reduce_lr = tf.keras.callbacks.ReduceLROnPlateau(monitor='val_loss',\n",
    "#                                            factor=0.1, patience=1, min_lr=0.00001)\n",
    "\n",
    "\n",
    "    return model, learning_rate_reduction"
   ]
  },
  {
   "cell_type": "code",
   "execution_count": 9,
   "id": "ed1a11f7-a383-4d56-bd74-9c69e45a2251",
   "metadata": {},
   "outputs": [
    {
     "name": "stdout",
     "output_type": "stream",
     "text": [
      "\n",
      "Nombres de classes : 50   |   Input shape : (128, 128, 1)\n",
      "\n"
     ]
    }
   ],
   "source": [
    "Nombre_classes = y.shape[1]\n",
    "input_shape = (X.shape[1], X.shape[2], 1)\n",
    "print(\"\\nNombres de classes : {}   |   Input shape : {}\\n\".format(Nombre_classes, input_shape))"
   ]
  },
  {
   "cell_type": "code",
   "execution_count": 10,
   "id": "1a0ba2de-b297-4e1c-afec-d947c3ae2b0a",
   "metadata": {},
   "outputs": [
    {
     "name": "stdout",
     "output_type": "stream",
     "text": [
      "Metal device set to: Apple M1\n",
      "Model: \"sequential\"\n",
      "_________________________________________________________________\n",
      "Layer (type)                 Output Shape              Param #   \n",
      "=================================================================\n",
      "conv2d (Conv2D)              (None, 128, 128, 256)     1280      \n",
      "_________________________________________________________________\n",
      "max_pooling2d (MaxPooling2D) (None, 64, 64, 256)       0         \n",
      "_________________________________________________________________\n",
      "flatten (Flatten)            (None, 1048576)           0         \n",
      "_________________________________________________________________\n",
      "dense (Dense)                (None, 50)                52428850  \n",
      "=================================================================\n",
      "Total params: 52,430,130\n",
      "Trainable params: 52,430,130\n",
      "Non-trainable params: 0\n",
      "_________________________________________________________________\n",
      "None\n",
      "\n",
      " ================= ZFNET model ================= \n",
      "\n"
     ]
    }
   ],
   "source": [
    "model, learning_rate_reduction = zfnet_model(input_shape=input_shape, nombre_classes=Nombre_classes)"
   ]
  },
  {
   "cell_type": "code",
   "execution_count": 14,
   "id": "3dac73df-34a4-4144-97cb-dde33ed84a05",
   "metadata": {
    "tags": []
   },
   "outputs": [
    {
     "name": "stdout",
     "output_type": "stream",
     "text": [
      "\n",
      " ================= Training : ZFNET model ================= \n",
      "\n",
      "  Epochs :  20   |   Batch size : 32 \n",
      "\n",
      " ========================================================== \n",
      "\n",
      "Epoch 1/20\n",
      "15/15 [==============================] - 33s 2s/step - loss: 2.1777 - accuracy: 0.7750 - val_loss: 2.2518 - val_accuracy: 0.8917\n",
      "Epoch 2/20\n",
      "15/15 [==============================] - 33s 2s/step - loss: 1.9768 - accuracy: 0.8313 - val_loss: 2.4167 - val_accuracy: 0.6250\n",
      "Epoch 3/20\n",
      "15/15 [==============================] - 33s 2s/step - loss: 1.8064 - accuracy: 0.9021 - val_loss: 2.0620 - val_accuracy: 0.8417\n",
      "\n",
      "Epoch 00003: ReduceLROnPlateau reducing learning rate to 0.00024009999469853935.\n",
      "Epoch 4/20\n",
      "15/15 [==============================] - 33s 2s/step - loss: 1.6658 - accuracy: 0.9313 - val_loss: 1.9300 - val_accuracy: 0.9250\n",
      "Epoch 5/20\n",
      "15/15 [==============================] - 33s 2s/step - loss: 1.5431 - accuracy: 0.9521 - val_loss: 1.8506 - val_accuracy: 0.9167\n",
      "Epoch 6/20\n",
      "15/15 [==============================] - 33s 2s/step - loss: 1.4400 - accuracy: 0.9667 - val_loss: 1.6947 - val_accuracy: 0.9000\n",
      "\n",
      "Epoch 00006: ReduceLROnPlateau reducing learning rate to 0.00016806999628897755.\n",
      "Epoch 7/20\n",
      "15/15 [==============================] - 33s 2s/step - loss: 1.3206 - accuracy: 0.9667 - val_loss: 1.5718 - val_accuracy: 0.9750\n",
      "Epoch 8/20\n",
      "15/15 [==============================] - 33s 2s/step - loss: 1.2434 - accuracy: 0.9813 - val_loss: 1.5279 - val_accuracy: 0.9667\n",
      "Epoch 9/20\n",
      "15/15 [==============================] - 33s 2s/step - loss: 1.1819 - accuracy: 0.9792 - val_loss: 1.4630 - val_accuracy: 0.9833\n",
      "Epoch 10/20\n",
      "15/15 [==============================] - 33s 2s/step - loss: 1.1170 - accuracy: 0.9896 - val_loss: 1.4123 - val_accuracy: 0.9833\n",
      "Epoch 11/20\n",
      "15/15 [==============================] - 33s 2s/step - loss: 1.0481 - accuracy: 0.9938 - val_loss: 1.2881 - val_accuracy: 0.9667\n",
      "\n",
      "Epoch 00011: ReduceLROnPlateau reducing learning rate to 0.00011764899536501615.\n",
      "Epoch 12/20\n",
      "15/15 [==============================] - 33s 2s/step - loss: 0.9955 - accuracy: 0.9979 - val_loss: 1.2745 - val_accuracy: 0.9833\n",
      "Epoch 13/20\n",
      "15/15 [==============================] - 33s 2s/step - loss: 0.9478 - accuracy: 1.0000 - val_loss: 1.2570 - val_accuracy: 0.9917\n",
      "Epoch 14/20\n",
      "15/15 [==============================] - 33s 2s/step - loss: 0.9075 - accuracy: 0.9979 - val_loss: 1.1462 - val_accuracy: 0.9833\n",
      "Epoch 15/20\n",
      "15/15 [==============================] - 33s 2s/step - loss: 0.8660 - accuracy: 0.9958 - val_loss: 1.1742 - val_accuracy: 0.9833\n",
      "\n",
      "Epoch 00015: ReduceLROnPlateau reducing learning rate to 8.235429777414538e-05.\n",
      "Epoch 16/20\n",
      "15/15 [==============================] - 33s 2s/step - loss: 0.8275 - accuracy: 0.9958 - val_loss: 1.1110 - val_accuracy: 0.9917\n",
      "Epoch 17/20\n",
      "15/15 [==============================] - 33s 2s/step - loss: 0.8025 - accuracy: 1.0000 - val_loss: 1.0883 - val_accuracy: 0.9917\n",
      "\n",
      "Epoch 00017: ReduceLROnPlateau reducing learning rate to 5.76480058953166e-05.\n",
      "Epoch 18/20\n",
      "15/15 [==============================] - 33s 2s/step - loss: 0.7754 - accuracy: 0.9979 - val_loss: 1.0533 - val_accuracy: 0.9917\n",
      "Epoch 19/20\n",
      "15/15 [==============================] - 33s 2s/step - loss: 0.7552 - accuracy: 1.0000 - val_loss: 1.0704 - val_accuracy: 0.9917\n",
      "\n",
      "Epoch 00019: ReduceLROnPlateau reducing learning rate to 4.0353603617404586e-05.\n",
      "Epoch 20/20\n",
      "15/15 [==============================] - 33s 2s/step - loss: 0.7383 - accuracy: 1.0000 - val_loss: 1.0162 - val_accuracy: 0.9917\n"
     ]
    }
   ],
   "source": [
    "epochs = 20\n",
    "batch_size = 32\n",
    "print(\"\\n ================= Training : ZFNET model ================= \\n\")\n",
    "print(\"  Epochs :  {}   |   Batch size : {} \".format(epochs, batch_size))\n",
    "print(\"\\n ========================================================== \\n\")\n",
    "\n",
    "trained_model = model.fit(X_train, y_train, validation_data=(X_temp, y_temp), epochs=epochs, callbacks=learning_rate_reduction)"
   ]
  },
  {
   "cell_type": "code",
   "execution_count": 15,
   "id": "f5b70f1e-9d55-467b-9e59-adc67f06abcf",
   "metadata": {},
   "outputs": [
    {
     "name": "stdout",
     "output_type": "stream",
     "text": [
      "4/4 [==============================] - 6s 1s/step - loss: 1.0162 - accuracy: 0.9917\n",
      "\n",
      " ================= Evaluation : ZFNET model ================= \n",
      "\n",
      "  With : \n",
      "\n",
      "Batch size         :  32     |   Epochs      : 20 \n",
      "Nombres de classes :  50     |   Input shape : (128, 128, 1) \n",
      "\n",
      "\n",
      " ============================================================= \n",
      "\n",
      "  Results : \n",
      "\n",
      "Loss  : 101.62%\n",
      "Score : 99.17%\n"
     ]
    }
   ],
   "source": [
    "val = model.evaluate(X_temp, y_temp)\n",
    "\n",
    "print(\"\\n ================= Evaluation : ZFNET model ================= \\n\")\n",
    "print(\"  With : \\n\")\n",
    "print(\"Batch size         :  {}     |   Epochs      : {} \".format(batch_size, epochs))\n",
    "print(\"Nombres de classes :  {}     |   Input shape : {} \\n\".format(Nombre_classes, input_shape))\n",
    "print(\"\\n ============================================================= \\n\")\n",
    "\n",
    "print(\"  Results : \\n\")\n",
    "print(\"Loss  : %.2f%%\" % (val[0] * 100))\n",
    "print(\"Score : %.2f%%\" % (val[1] * 100))"
   ]
  },
  {
   "cell_type": "code",
   "execution_count": 16,
   "id": "1c3b6bb3-05ed-4236-9263-1770d5e61245",
   "metadata": {},
   "outputs": [
    {
     "data": {
      "image/png": "[encoded data removed]",
      "text/plain": [
       "<Figure size 432x288 with 1 Axes>"
      ]
     },
     "metadata": {
      "needs_background": "light"
     },
     "output_type": "display_data"
    },
    {
     "data": {
      "image/png": "[encoded data removed]",
      "text/plain": [
       "<Figure size 432x288 with 1 Axes>"
      ]
     },
     "metadata": {
      "needs_background": "light"
     },
     "output_type": "display_data"
    }
   ],
   "source": [
    "def plot_scores(train):\n",
    "    accuracy = train.history['accuracy']\n",
    "    val_accuracy = train.history['val_accuracy']\n",
    "    epochs = range(len(accuracy))\n",
    "    plt.plot(epochs, accuracy, 'b', label='Score apprentissage')\n",
    "    plt.plot(epochs, val_accuracy, 'r', label='Score validation')\n",
    "    plt.title('Scores')\n",
    "    plt.legend()\n",
    "    plt.show()\n",
    "def plot_loss(train):\n",
    "    loss = train.history['loss']\n",
    "    val_loss = train.history['val_loss']\n",
    "    epochs = range(len(loss))\n",
    "    plt.plot(epochs, loss, 'b', label='Loss apprentissage')\n",
    "    plt.plot(epochs, val_loss, 'r', label='Loss validation')\n",
    "    plt.title('Loss')\n",
    "    plt.legend()\n",
    "    plt.show()\n",
    "    \n",
    "plot_scores(trained_model)\n",
    "plot_loss(trained_model)"
   ]
  },
  {
   "cell_type": "code",
   "execution_count": 17,
   "id": "91186aee-cc96-433b-a190-27fa9399c55d",
   "metadata": {},
   "outputs": [],
   "source": [
    "!mkdir -p saved_model\n",
    "model.save('saved_model/model_1layerCONVPOOL._40epochs.h5')"
   ]
  },
  {
   "cell_type": "code",
   "execution_count": null,
   "id": "bf6e38e8-3ee2-4301-b906-f36105352100",
   "metadata": {},
   "outputs": [],
   "source": []
  }
 ],
 "metadata": {
  "kernelspec": {
   "display_name": "tftest",
   "language": "python",
   "name": "tftest"
  },
  "language_info": {
   "codemirror_mode": {
    "name": "ipython",
    "version": 3
   },
   "file_extension": ".py",
   "mimetype": "text/x-python",
   "name": "python",
   "nbconvert_exporter": "python",
   "pygments_lexer": "ipython3",
   "version": "3.9.7"
  }
 },
 "nbformat": 4,
 "nbformat_minor": 5
}
